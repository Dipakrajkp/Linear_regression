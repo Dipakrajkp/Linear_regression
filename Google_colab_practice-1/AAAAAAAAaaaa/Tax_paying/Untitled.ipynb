{
 "cells": [
  {
   "cell_type": "code",
   "execution_count": 1,
   "id": "771f24dd",
   "metadata": {},
   "outputs": [],
   "source": [
    "import pandas as pd\n",
    "import numpy as np\n"
   ]
  },
  {
   "cell_type": "code",
   "execution_count": 15,
   "id": "fc3de6d0",
   "metadata": {},
   "outputs": [],
   "source": [
    "header = df.iloc[13]\n",
    "df = pd.read_excel('taxpnl-NVQ311-2022_2023-Q1-Q4.xlsx',header =14)\n",
    "df = df.drop(['Unnamed: 0','Unnamed: 13'],axis =1)"
   ]
  },
  {
   "cell_type": "code",
   "execution_count": 18,
   "id": "b6753c7d",
   "metadata": {},
   "outputs": [
    {
     "data": {
      "text/plain": [
       "Symbol                 18\n",
       "ISIN                   23\n",
       "Entry Date             23\n",
       "Exit Date              23\n",
       "Quantity               23\n",
       "Buy Value              23\n",
       "Sell Value             23\n",
       "Profit                 23\n",
       "Period of Holding    5680\n",
       "Fair Market Value    5680\n",
       "Taxable Profit       5680\n",
       "Turnover             5680\n",
       "dtype: int64"
      ]
     },
     "execution_count": 18,
     "metadata": {},
     "output_type": "execute_result"
    }
   ],
   "source": [
    "df.isnull().sum()"
   ]
  },
  {
   "cell_type": "code",
   "execution_count": 19,
   "id": "b904b7bd",
   "metadata": {},
   "outputs": [
    {
     "name": "stdout",
     "output_type": "stream",
     "text": [
      "<class 'pandas.core.frame.DataFrame'>\n",
      "RangeIndex: 7001 entries, 0 to 7000\n",
      "Data columns (total 12 columns):\n",
      " #   Column             Non-Null Count  Dtype \n",
      "---  ------             --------------  ----- \n",
      " 0   Symbol             6983 non-null   object\n",
      " 1   ISIN               6978 non-null   object\n",
      " 2   Entry Date         6978 non-null   object\n",
      " 3   Exit Date          6978 non-null   object\n",
      " 4   Quantity           6978 non-null   object\n",
      " 5   Buy Value          6978 non-null   object\n",
      " 6   Sell Value         6978 non-null   object\n",
      " 7   Profit             6978 non-null   object\n",
      " 8   Period of Holding  1321 non-null   object\n",
      " 9   Fair Market Value  1321 non-null   object\n",
      " 10  Taxable Profit     1321 non-null   object\n",
      " 11  Turnover           1321 non-null   object\n",
      "dtypes: object(12)\n",
      "memory usage: 656.5+ KB\n"
     ]
    }
   ],
   "source": [
    "df.info()"
   ]
  },
  {
   "cell_type": "code",
   "execution_count": 46,
   "id": "a018a122",
   "metadata": {},
   "outputs": [
    {
     "data": {
      "text/plain": [
       "<bound method Series.isin of 0         -194.4\n",
       "1        -1749.6\n",
       "2        -1584.6\n",
       "3          -83.4\n",
       "4          -4025\n",
       "          ...   \n",
       "6996         NaN\n",
       "6997         NaN\n",
       "6998         NaN\n",
       "6999         NaN\n",
       "7000    Turnover\n",
       "Name: Profit, Length: 7001, dtype: object>"
      ]
     },
     "execution_count": 46,
     "metadata": {},
     "output_type": "execute_result"
    }
   ],
   "source": [
    "df['Profit'].isin\n",
    "\n"
   ]
  },
  {
   "cell_type": "code",
   "execution_count": null,
   "id": "b8c90423",
   "metadata": {},
   "outputs": [],
   "source": []
  }
 ],
 "metadata": {
  "kernelspec": {
   "display_name": "Python 3",
   "language": "python",
   "name": "python3"
  },
  "language_info": {
   "codemirror_mode": {
    "name": "ipython",
    "version": 3
   },
   "file_extension": ".py",
   "mimetype": "text/x-python",
   "name": "python",
   "nbconvert_exporter": "python",
   "pygments_lexer": "ipython3",
   "version": "3.11.1"
  },
  "vscode": {
   "interpreter": {
    "hash": "a97a0e93925abcb2b0d9a3f83e9a4a1f25d6f5dd23e78fc511e256b3a39a9a77"
   }
  }
 },
 "nbformat": 4,
 "nbformat_minor": 5
}

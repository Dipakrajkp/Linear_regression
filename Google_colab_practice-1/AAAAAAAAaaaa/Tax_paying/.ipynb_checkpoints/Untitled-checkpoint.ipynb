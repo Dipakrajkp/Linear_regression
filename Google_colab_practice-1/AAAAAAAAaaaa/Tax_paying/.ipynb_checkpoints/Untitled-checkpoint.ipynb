{
 "cells": [
  {
   "cell_type": "code",
   "execution_count": null,
   "metadata": {},
   "outputs": [],
   "source": []
  }
 ],
 "metadata": {
  "kernelspec": {
   "display_name": "Python 3",
   "language": "python",
   "name": "python3"
  },
  "language_info": {
   "name": "python",
   "version": "3.11.1 (tags/v3.11.1:a7a450f, Dec  6 2022, 19:58:39) [MSC v.1934 64 bit (AMD64)]"
  },
  "vscode": {
   "interpreter": {
    "hash": "a97a0e93925abcb2b0d9a3f83e9a4a1f25d6f5dd23e78fc511e256b3a39a9a77"
   }
  }
 },
 "nbformat": 4,
 "nbformat_minor": 5
}
